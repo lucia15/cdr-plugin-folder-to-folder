{
 "cells": [
  {
   "cell_type": "markdown",
   "id": "handmade-engineer",
   "metadata": {},
   "source": [
    "# File Report Analysis"
   ]
  },
  {
   "cell_type": "code",
   "execution_count": 1,
   "id": "quality-bride",
   "metadata": {},
   "outputs": [
    {
     "data": {
      "text/html": [
       "<style>.container { width:80% !important; }</style>"
      ],
      "text/plain": [
       "<IPython.core.display.HTML object>"
      ]
     },
     "metadata": {},
     "output_type": "display_data"
    }
   ],
   "source": [
    "# Run this when developing since it reloads the code automatically when code is changed\n",
    "%reload_ext autoreload  \n",
    "# setud up autoroad \n",
    "%autoreload 2\n",
    "\n",
    "from IPython.core.display import display, HTML\n",
    "display(HTML(\"<style>.container { width:80% !important; }</style>\"))"
   ]
  },
  {
   "cell_type": "code",
   "execution_count": 2,
   "id": "external-lebanon",
   "metadata": {},
   "outputs": [],
   "source": [
    "%%capture\n",
    "!jupyter nbextension enable --py --sys-prefix qgrid\n",
    "!jupyter nbextension enable --py --sys-prefix widgetsnbextension"
   ]
  },
  {
   "cell_type": "code",
   "execution_count": 3,
   "id": "needed-vault",
   "metadata": {},
   "outputs": [
    {
     "data": {
      "text/html": [
       "<script>\n",
       "code_show=true; \n",
       "function code_toggle() {\n",
       " if (code_show){\n",
       " $('div.input').hide();\n",
       " } else {\n",
       " $('div.input').show();\n",
       " }\n",
       " code_show = !code_show\n",
       "} \n",
       "$( document ).ready(code_toggle);\n",
       "</script>\n",
       "<form action=\"javascript:code_toggle()\"><input type=\"submit\" value=\"Click here to toggle on/off the raw code.\"></form>"
      ],
      "text/plain": [
       "<IPython.core.display.HTML object>"
      ]
     },
     "execution_count": 3,
     "metadata": {},
     "output_type": "execute_result"
    }
   ],
   "source": [
    "HTML('''<script>\n",
    "code_show=true; \n",
    "function code_toggle() {\n",
    " if (code_show){\n",
    " $('div.input').hide();\n",
    " } else {\n",
    " $('div.input').show();\n",
    " }\n",
    " code_show = !code_show\n",
    "} \n",
    "$( document ).ready(code_toggle);\n",
    "</script>\n",
    "<form action=\"javascript:code_toggle()\"><input type=\"submit\" value=\"Click here to toggle on/off the raw code.\"></form>''')"
   ]
  },
  {
   "cell_type": "code",
   "execution_count": 3,
   "id": "standard-figure",
   "metadata": {},
   "outputs": [],
   "source": [
    "import qgrid\n",
    "import ipywidgets as widgets\n",
    "import ipython_blocking"
   ]
  },
  {
   "cell_type": "code",
   "execution_count": 4,
   "id": "thousand-halifax",
   "metadata": {},
   "outputs": [],
   "source": [
    "import pandas as pd\n",
    "import numpy as np\n",
    "import json\n",
    "from graphviz import Digraph\n",
    "import matplotlib.pyplot as plt"
   ]
  },
  {
   "cell_type": "code",
   "execution_count": 5,
   "id": "orange-controversy",
   "metadata": {},
   "outputs": [],
   "source": [
    "import sys\n",
    "sys.path.append(\"../\")\n",
    "from jupyter_apis.Report_API import Report"
   ]
  },
  {
   "cell_type": "markdown",
   "id": "cleared-taste",
   "metadata": {},
   "source": [
    "### So far we only have a report for scenario-1"
   ]
  },
  {
   "cell_type": "code",
   "execution_count": 7,
   "id": "increasing-mechanics",
   "metadata": {},
   "outputs": [
    {
     "data": {
      "application/vnd.jupyter.widget-view+json": {
       "model_id": "5e5399e7f9a94dfd915d29c847265465",
       "version_major": 2,
       "version_minor": 0
      },
      "text/plain": [
       "VBox(children=(Dropdown(description='Scenario : ', options=('scenario-1', 'scenario-2'), value=None), Button(d…"
      ]
     },
     "metadata": {},
     "output_type": "display_data"
    },
    {
     "data": {
      "application/javascript": [
       "Jupyter.notebook.select_next().execute_cells_below()"
      ],
      "text/plain": [
       "<IPython.core.display.Javascript object>"
      ]
     },
     "metadata": {},
     "output_type": "display_data"
    }
   ],
   "source": [
    "scenarios = ['scenario-1', 'scenario-2']\n",
    "\n",
    "selected_scenario = widgets.Dropdown(\n",
    "    options     = scenarios,\n",
    "    description = 'Scenario : ',\n",
    "    disabled    = False,\n",
    "    value       = None)\n",
    "\n",
    "button = widgets.Button(description='Run')\n",
    "\n",
    "box = widgets.VBox(children=[selected_scenario, button])\n",
    "display(box)"
   ]
  },
  {
   "cell_type": "code",
   "execution_count": 10,
   "id": "necessary-edward",
   "metadata": {},
   "outputs": [],
   "source": [
    "%blockrun button"
   ]
  },
  {
   "cell_type": "code",
   "execution_count": 11,
   "id": "imperial-comment",
   "metadata": {},
   "outputs": [
    {
     "data": {
      "application/vnd.jupyter.widget-view+json": {
       "model_id": "19fc0dbf0acb4d7cb27656aab3ca579d",
       "version_major": 2,
       "version_minor": 0
      },
      "text/plain": [
       "VBox(children=(Dropdown(description='File : ', options=('image2.jpg',), value=None), Button(description='Run',…"
      ]
     },
     "metadata": {},
     "output_type": "display_data"
    },
    {
     "data": {
      "application/javascript": [
       "Jupyter.notebook.select_next().execute_cells_below()"
      ],
      "text/plain": [
       "<IPython.core.display.Javascript object>"
      ]
     },
     "metadata": {},
     "output_type": "display_data"
    }
   ],
   "source": [
    "scenario = selected_scenario.value\n",
    "\n",
    "report = Report(scenario, -1)\n",
    "\n",
    "#from pprint import pprint\n",
    "#data = report.get_dict_from_report()\n",
    "#pprint(data)\n",
    "\n",
    "files = report.get_files()\n",
    "\n",
    "selected_file = widgets.Dropdown(\n",
    "    options     = files,\n",
    "    description = 'File : ',\n",
    "    disabled    = False,\n",
    "    value       = None)\n",
    "\n",
    "button = widgets.Button(description='Run')\n",
    "\n",
    "box = widgets.VBox(children=[selected_file, button])\n",
    "display(box)"
   ]
  },
  {
   "cell_type": "code",
   "execution_count": 14,
   "id": "divided-nothing",
   "metadata": {},
   "outputs": [],
   "source": [
    "%blockrun button"
   ]
  },
  {
   "cell_type": "code",
   "execution_count": 15,
   "id": "intellectual-hepatitis",
   "metadata": {},
   "outputs": [],
   "source": [
    "file_id = files.index(selected_file.value)\n",
    "report.file_id = file_id"
   ]
  },
  {
   "cell_type": "markdown",
   "id": "pretty-choice",
   "metadata": {},
   "source": [
    "## Document Summary"
   ]
  },
  {
   "cell_type": "code",
   "execution_count": 16,
   "id": "unusual-highland",
   "metadata": {},
   "outputs": [
    {
     "name": "stdout",
     "output_type": "stream",
     "text": [
      "Total Size In Bytes : 7817\n",
      "File Type : jpeg\n",
      "Version : Not Applicable\n"
     ]
    }
   ],
   "source": [
    "report.print_document_summary()"
   ]
  },
  {
   "cell_type": "markdown",
   "id": "activated-sitting",
   "metadata": {},
   "source": [
    "## Extracted Items"
   ]
  },
  {
   "cell_type": "code",
   "execution_count": 17,
   "id": "periodic-shape",
   "metadata": {},
   "outputs": [
    {
     "name": "stdout",
     "output_type": "stream",
     "text": [
      "Item Count : 0\n"
     ]
    }
   ],
   "source": [
    "report.print_extracted_items()"
   ]
  },
  {
   "cell_type": "markdown",
   "id": "referenced-antique",
   "metadata": {},
   "source": [
    "## Content Management Policy"
   ]
  },
  {
   "cell_type": "code",
   "execution_count": 18,
   "id": "anticipated-catholic",
   "metadata": {},
   "outputs": [
    {
     "data": {
      "application/vnd.jupyter.widget-view+json": {
       "model_id": "88b51bd9e7ca4d8ca26e458d25d35454",
       "version_major": 2,
       "version_minor": 0
      },
      "text/plain": [
       "QgridWidget(grid_options={'fullWidthRows': True, 'syncColumnCellResize': True, 'forceFitColumns': True, 'defau…"
      ]
     },
     "metadata": {},
     "output_type": "display_data"
    }
   ],
   "source": [
    "content_management_policy = report.content_management_policy_df()\n",
    "qgrid_widget = qgrid.show_grid(content_management_policy, show_toolbar=True)\n",
    "qgrid_widget"
   ]
  },
  {
   "cell_type": "code",
   "execution_count": 19,
   "id": "ahead-perception",
   "metadata": {},
   "outputs": [
    {
     "data": {
      "application/vnd.jupyter.widget-view+json": {
       "model_id": "a2a96223af2b47e383e9b28051bb62cc",
       "version_major": 2,
       "version_minor": 0
      },
      "text/plain": [
       "VBox(children=(Dropdown(description='Camera : ', options=('pdfConfig', 'wordConfig', 'pptConfig', 'xlsConfig',…"
      ]
     },
     "metadata": {},
     "output_type": "display_data"
    },
    {
     "data": {
      "application/javascript": [
       "Jupyter.notebook.select_next().execute_cells_below()"
      ],
      "text/plain": [
       "<IPython.core.display.Javascript object>"
      ]
     },
     "metadata": {},
     "output_type": "display_data"
    }
   ],
   "source": [
    "camera_names = list(content_management_policy['Camera Name'].unique())\n",
    "\n",
    "selected_camera = widgets.Dropdown(\n",
    "    options     = camera_names,\n",
    "    description = 'Camera : ',\n",
    "    disabled    = False,\n",
    "    value       = None)\n",
    "\n",
    "button = widgets.Button(description='Run')\n",
    "\n",
    "box = widgets.VBox(children=[selected_camera, button])\n",
    "display(box)"
   ]
  },
  {
   "cell_type": "code",
   "execution_count": 22,
   "id": "competent-penetration",
   "metadata": {},
   "outputs": [],
   "source": [
    "%blockrun button"
   ]
  },
  {
   "cell_type": "code",
   "execution_count": 23,
   "id": "saving-square",
   "metadata": {},
   "outputs": [
    {
     "data": {
      "image/svg+xml": [
       "<?xml version=\"1.0\" encoding=\"UTF-8\" standalone=\"no\"?>\n",
       "<!DOCTYPE svg PUBLIC \"-//W3C//DTD SVG 1.1//EN\"\n",
       " \"http://www.w3.org/Graphics/SVG/1.1/DTD/svg11.dtd\">\n",
       "<!-- Generated by graphviz version 2.47.0 (20210327.0129)\n",
       " -->\n",
       "<!-- Pages: 1 -->\n",
       "<svg width=\"1560pt\" height=\"188pt\"\n",
       " viewBox=\"0.00 0.00 1559.50 188.00\" xmlns=\"http://www.w3.org/2000/svg\" xmlns:xlink=\"http://www.w3.org/1999/xlink\">\n",
       "<g id=\"graph0\" class=\"graph\" transform=\"scale(1 1) rotate(0) translate(4 184)\">\n",
       "<polygon fill=\"white\" stroke=\"transparent\" points=\"-4,4 -4,-184 1555.5,-184 1555.5,4 -4,4\"/>\n",
       "<!-- pdfConfig -->\n",
       "<g id=\"node1\" class=\"node\">\n",
       "<title>pdfConfig</title>\n",
       "<polygon fill=\"none\" stroke=\"black\" points=\"610,-180 524,-180 524,-144 610,-144 610,-180\"/>\n",
       "<text text-anchor=\"middle\" x=\"567\" y=\"-158.3\" font-family=\"Times-Roman\" font-size=\"14.00\">pdfConfig</text>\n",
       "</g>\n",
       "<!-- metadata -->\n",
       "<g id=\"node2\" class=\"node\">\n",
       "<title>metadata</title>\n",
       "<polygon fill=\"none\" stroke=\"black\" points=\"86,-108 0,-108 0,-72 86,-72 86,-108\"/>\n",
       "<text text-anchor=\"middle\" x=\"43\" y=\"-86.3\" font-family=\"Times-Roman\" font-size=\"14.00\">metadata</text>\n",
       "</g>\n",
       "<!-- pdfConfig&#45;&gt;metadata -->\n",
       "<g id=\"edge11\" class=\"edge\">\n",
       "<title>pdfConfig&#45;&gt;metadata</title>\n",
       "<path fill=\"none\" stroke=\"black\" d=\"M523.89,-159.1C442.02,-154.87 258.45,-142.35 96.38,-108.05\"/>\n",
       "<polygon fill=\"black\" stroke=\"black\" points=\"96.74,-104.55 86.23,-105.86 95.27,-111.39 96.74,-104.55\"/>\n",
       "</g>\n",
       "<!-- javascript -->\n",
       "<g id=\"node3\" class=\"node\">\n",
       "<title>javascript</title>\n",
       "<polygon fill=\"none\" stroke=\"black\" points=\"190,-108 104,-108 104,-72 190,-72 190,-108\"/>\n",
       "<text text-anchor=\"middle\" x=\"147\" y=\"-86.3\" font-family=\"Times-Roman\" font-size=\"14.00\">javascript</text>\n",
       "</g>\n",
       "<!-- pdfConfig&#45;&gt;javascript -->\n",
       "<g id=\"edge12\" class=\"edge\">\n",
       "<title>pdfConfig&#45;&gt;javascript</title>\n",
       "<path fill=\"none\" stroke=\"black\" d=\"M523.77,-157.22C456.37,-150.79 322.13,-135.87 200.14,-108.05\"/>\n",
       "<polygon fill=\"black\" stroke=\"black\" points=\"200.78,-104.61 190.25,-105.76 199.21,-111.43 200.78,-104.61\"/>\n",
       "</g>\n",
       "<!-- acroform -->\n",
       "<g id=\"node4\" class=\"node\">\n",
       "<title>acroform</title>\n",
       "<polygon fill=\"none\" stroke=\"black\" points=\"291.5,-108 208.5,-108 208.5,-72 291.5,-72 291.5,-108\"/>\n",
       "<text text-anchor=\"middle\" x=\"250\" y=\"-86.3\" font-family=\"Times-Roman\" font-size=\"14.00\">acroform</text>\n",
       "</g>\n",
       "<!-- pdfConfig&#45;&gt;acroform -->\n",
       "<g id=\"edge13\" class=\"edge\">\n",
       "<title>pdfConfig&#45;&gt;acroform</title>\n",
       "<path fill=\"none\" stroke=\"black\" d=\"M523.77,-154.1C472.79,-145.58 385.39,-129.81 301.32,-107.9\"/>\n",
       "<polygon fill=\"black\" stroke=\"black\" points=\"302.18,-104.51 291.62,-105.35 300.4,-111.28 302.18,-104.51\"/>\n",
       "</g>\n",
       "<!-- actions_all -->\n",
       "<g id=\"node5\" class=\"node\">\n",
       "<title>actions_all</title>\n",
       "<polygon fill=\"none\" stroke=\"black\" points=\"402,-108 310,-108 310,-72 402,-72 402,-108\"/>\n",
       "<text text-anchor=\"middle\" x=\"356\" y=\"-86.3\" font-family=\"Times-Roman\" font-size=\"14.00\">actions_all</text>\n",
       "</g>\n",
       "<!-- pdfConfig&#45;&gt;actions_all -->\n",
       "<g id=\"edge14\" class=\"edge\">\n",
       "<title>pdfConfig&#45;&gt;actions_all</title>\n",
       "<path fill=\"none\" stroke=\"black\" d=\"M523.79,-146.67C491.39,-135.92 446.78,-121.12 411.7,-109.48\"/>\n",
       "<polygon fill=\"black\" stroke=\"black\" points=\"412.67,-106.11 402.07,-106.29 410.46,-112.76 412.67,-106.11\"/>\n",
       "</g>\n",
       "<!-- embedded_files -->\n",
       "<g id=\"node6\" class=\"node\">\n",
       "<title>embedded_files</title>\n",
       "<polygon fill=\"none\" stroke=\"black\" points=\"551.5,-108 420.5,-108 420.5,-72 551.5,-72 551.5,-108\"/>\n",
       "<text text-anchor=\"middle\" x=\"486\" y=\"-86.3\" font-family=\"Times-Roman\" font-size=\"14.00\">embedded_files</text>\n",
       "</g>\n",
       "<!-- pdfConfig&#45;&gt;embedded_files -->\n",
       "<g id=\"edge15\" class=\"edge\">\n",
       "<title>pdfConfig&#45;&gt;embedded_files</title>\n",
       "<path fill=\"none\" stroke=\"black\" d=\"M546.98,-143.7C536.87,-134.97 524.46,-124.24 513.48,-114.75\"/>\n",
       "<polygon fill=\"black\" stroke=\"black\" points=\"515.65,-111.99 505.79,-108.1 511.07,-117.29 515.65,-111.99\"/>\n",
       "</g>\n",
       "<!-- external_hyperlinks -->\n",
       "<g id=\"node7\" class=\"node\">\n",
       "<title>external_hyperlinks</title>\n",
       "<polygon fill=\"none\" stroke=\"black\" points=\"726.5,-108 569.5,-108 569.5,-72 726.5,-72 726.5,-108\"/>\n",
       "<text text-anchor=\"middle\" x=\"648\" y=\"-86.3\" font-family=\"Times-Roman\" font-size=\"14.00\">external_hyperlinks</text>\n",
       "</g>\n",
       "<!-- pdfConfig&#45;&gt;external_hyperlinks -->\n",
       "<g id=\"edge16\" class=\"edge\">\n",
       "<title>pdfConfig&#45;&gt;external_hyperlinks</title>\n",
       "<path fill=\"none\" stroke=\"black\" d=\"M587.02,-143.7C597.13,-134.97 609.54,-124.24 620.52,-114.75\"/>\n",
       "<polygon fill=\"black\" stroke=\"black\" points=\"622.93,-117.29 628.21,-108.1 618.35,-111.99 622.93,-117.29\"/>\n",
       "</g>\n",
       "<!-- internal_hyperlinks -->\n",
       "<g id=\"node8\" class=\"node\">\n",
       "<title>internal_hyperlinks</title>\n",
       "<polygon fill=\"none\" stroke=\"black\" points=\"897,-108 745,-108 745,-72 897,-72 897,-108\"/>\n",
       "<text text-anchor=\"middle\" x=\"821\" y=\"-86.3\" font-family=\"Times-Roman\" font-size=\"14.00\">internal_hyperlinks</text>\n",
       "</g>\n",
       "<!-- pdfConfig&#45;&gt;internal_hyperlinks -->\n",
       "<g id=\"edge17\" class=\"edge\">\n",
       "<title>pdfConfig&#45;&gt;internal_hyperlinks</title>\n",
       "<path fill=\"none\" stroke=\"black\" d=\"M610.09,-149.13C648.2,-138.62 704.55,-123.09 749.42,-110.73\"/>\n",
       "<polygon fill=\"black\" stroke=\"black\" points=\"750.39,-114.09 759.1,-108.06 748.53,-107.34 750.39,-114.09\"/>\n",
       "</g>\n",
       "<!-- embedded_images -->\n",
       "<g id=\"node9\" class=\"node\">\n",
       "<title>embedded_images</title>\n",
       "<polygon fill=\"none\" stroke=\"black\" points=\"1069,-108 915,-108 915,-72 1069,-72 1069,-108\"/>\n",
       "<text text-anchor=\"middle\" x=\"992\" y=\"-86.3\" font-family=\"Times-Roman\" font-size=\"14.00\">embedded_images</text>\n",
       "</g>\n",
       "<!-- pdfConfig&#45;&gt;embedded_images -->\n",
       "<g id=\"edge18\" class=\"edge\">\n",
       "<title>pdfConfig&#45;&gt;embedded_images</title>\n",
       "<path fill=\"none\" stroke=\"black\" d=\"M610.17,-154.82C672.78,-145.72 792.69,-127.85 904.57,-108.22\"/>\n",
       "<polygon fill=\"black\" stroke=\"black\" points=\"905.43,-111.62 914.67,-106.44 904.22,-104.73 905.43,-111.62\"/>\n",
       "</g>\n",
       "<!-- value_outside_reasonable_limits -->\n",
       "<g id=\"node10\" class=\"node\">\n",
       "<title>value_outside_reasonable_limits</title>\n",
       "<polygon fill=\"none\" stroke=\"black\" points=\"1336.5,-108 1087.5,-108 1087.5,-72 1336.5,-72 1336.5,-108\"/>\n",
       "<text text-anchor=\"middle\" x=\"1212\" y=\"-86.3\" font-family=\"Times-Roman\" font-size=\"14.00\">value_outside_reasonable_limits</text>\n",
       "</g>\n",
       "<!-- pdfConfig&#45;&gt;value_outside_reasonable_limits -->\n",
       "<g id=\"edge19\" class=\"edge\">\n",
       "<title>pdfConfig&#45;&gt;value_outside_reasonable_limits</title>\n",
       "<path fill=\"none\" stroke=\"black\" d=\"M610.11,-156.86C696.48,-148.51 897.15,-128.72 1077.01,-108.1\"/>\n",
       "<polygon fill=\"black\" stroke=\"black\" points=\"1077.65,-111.55 1087.19,-106.93 1076.85,-104.59 1077.65,-111.55\"/>\n",
       "</g>\n",
       "<!-- retain_exported_streams -->\n",
       "<g id=\"node11\" class=\"node\">\n",
       "<title>retain_exported_streams</title>\n",
       "<polygon fill=\"none\" stroke=\"black\" points=\"1551.5,-108 1354.5,-108 1354.5,-72 1551.5,-72 1551.5,-108\"/>\n",
       "<text text-anchor=\"middle\" x=\"1453\" y=\"-86.3\" font-family=\"Times-Roman\" font-size=\"14.00\">retain_exported_streams</text>\n",
       "</g>\n",
       "<!-- pdfConfig&#45;&gt;retain_exported_streams -->\n",
       "<g id=\"edge20\" class=\"edge\">\n",
       "<title>pdfConfig&#45;&gt;retain_exported_streams</title>\n",
       "<path fill=\"none\" stroke=\"black\" d=\"M610.13,-159.4C726.71,-154.78 1057.96,-139.77 1344.29,-108.01\"/>\n",
       "<polygon fill=\"black\" stroke=\"black\" points=\"1344.91,-111.47 1354.46,-106.88 1344.13,-104.51 1344.91,-111.47\"/>\n",
       "</g>\n",
       "<!-- 0 -->\n",
       "<g id=\"node12\" class=\"node\">\n",
       "<title>0</title>\n",
       "<polygon fill=\"none\" stroke=\"black\" points=\"78.5,-36 7.5,-36 7.5,0 78.5,0 78.5,-36\"/>\n",
       "<text text-anchor=\"middle\" x=\"43\" y=\"-14.3\" font-family=\"Times-Roman\" font-size=\"14.00\">sanitise</text>\n",
       "</g>\n",
       "<!-- metadata&#45;&gt;0 -->\n",
       "<g id=\"edge1\" class=\"edge\">\n",
       "<title>metadata&#45;&gt;0</title>\n",
       "<path fill=\"none\" stroke=\"black\" d=\"M43,-71.7C43,-63.98 43,-54.71 43,-46.11\"/>\n",
       "<polygon fill=\"black\" stroke=\"black\" points=\"46.5,-46.1 43,-36.1 39.5,-46.1 46.5,-46.1\"/>\n",
       "</g>\n",
       "<!-- 1 -->\n",
       "<g id=\"node13\" class=\"node\">\n",
       "<title>1</title>\n",
       "<polygon fill=\"none\" stroke=\"black\" points=\"182.5,-36 111.5,-36 111.5,0 182.5,0 182.5,-36\"/>\n",
       "<text text-anchor=\"middle\" x=\"147\" y=\"-14.3\" font-family=\"Times-Roman\" font-size=\"14.00\">sanitise</text>\n",
       "</g>\n",
       "<!-- javascript&#45;&gt;1 -->\n",
       "<g id=\"edge2\" class=\"edge\">\n",
       "<title>javascript&#45;&gt;1</title>\n",
       "<path fill=\"none\" stroke=\"black\" d=\"M147,-71.7C147,-63.98 147,-54.71 147,-46.11\"/>\n",
       "<polygon fill=\"black\" stroke=\"black\" points=\"150.5,-46.1 147,-36.1 143.5,-46.1 150.5,-46.1\"/>\n",
       "</g>\n",
       "<!-- 2 -->\n",
       "<g id=\"node14\" class=\"node\">\n",
       "<title>2</title>\n",
       "<polygon fill=\"none\" stroke=\"black\" points=\"285.5,-36 214.5,-36 214.5,0 285.5,0 285.5,-36\"/>\n",
       "<text text-anchor=\"middle\" x=\"250\" y=\"-14.3\" font-family=\"Times-Roman\" font-size=\"14.00\">sanitise</text>\n",
       "</g>\n",
       "<!-- acroform&#45;&gt;2 -->\n",
       "<g id=\"edge3\" class=\"edge\">\n",
       "<title>acroform&#45;&gt;2</title>\n",
       "<path fill=\"none\" stroke=\"black\" d=\"M250,-71.7C250,-63.98 250,-54.71 250,-46.11\"/>\n",
       "<polygon fill=\"black\" stroke=\"black\" points=\"253.5,-46.1 250,-36.1 246.5,-46.1 253.5,-46.1\"/>\n",
       "</g>\n",
       "<!-- 3 -->\n",
       "<g id=\"node15\" class=\"node\">\n",
       "<title>3</title>\n",
       "<polygon fill=\"none\" stroke=\"black\" points=\"391.5,-36 320.5,-36 320.5,0 391.5,0 391.5,-36\"/>\n",
       "<text text-anchor=\"middle\" x=\"356\" y=\"-14.3\" font-family=\"Times-Roman\" font-size=\"14.00\">sanitise</text>\n",
       "</g>\n",
       "<!-- actions_all&#45;&gt;3 -->\n",
       "<g id=\"edge4\" class=\"edge\">\n",
       "<title>actions_all&#45;&gt;3</title>\n",
       "<path fill=\"none\" stroke=\"black\" d=\"M356,-71.7C356,-63.98 356,-54.71 356,-46.11\"/>\n",
       "<polygon fill=\"black\" stroke=\"black\" points=\"359.5,-46.1 356,-36.1 352.5,-46.1 359.5,-46.1\"/>\n",
       "</g>\n",
       "<!-- 4 -->\n",
       "<g id=\"node16\" class=\"node\">\n",
       "<title>4</title>\n",
       "<polygon fill=\"none\" stroke=\"black\" points=\"521.5,-36 450.5,-36 450.5,0 521.5,0 521.5,-36\"/>\n",
       "<text text-anchor=\"middle\" x=\"486\" y=\"-14.3\" font-family=\"Times-Roman\" font-size=\"14.00\">sanitise</text>\n",
       "</g>\n",
       "<!-- embedded_files&#45;&gt;4 -->\n",
       "<g id=\"edge5\" class=\"edge\">\n",
       "<title>embedded_files&#45;&gt;4</title>\n",
       "<path fill=\"none\" stroke=\"black\" d=\"M486,-71.7C486,-63.98 486,-54.71 486,-46.11\"/>\n",
       "<polygon fill=\"black\" stroke=\"black\" points=\"489.5,-46.1 486,-36.1 482.5,-46.1 489.5,-46.1\"/>\n",
       "</g>\n",
       "<!-- 5 -->\n",
       "<g id=\"node17\" class=\"node\">\n",
       "<title>5</title>\n",
       "<polygon fill=\"none\" stroke=\"black\" points=\"683.5,-36 612.5,-36 612.5,0 683.5,0 683.5,-36\"/>\n",
       "<text text-anchor=\"middle\" x=\"648\" y=\"-14.3\" font-family=\"Times-Roman\" font-size=\"14.00\">sanitise</text>\n",
       "</g>\n",
       "<!-- external_hyperlinks&#45;&gt;5 -->\n",
       "<g id=\"edge6\" class=\"edge\">\n",
       "<title>external_hyperlinks&#45;&gt;5</title>\n",
       "<path fill=\"none\" stroke=\"black\" d=\"M648,-71.7C648,-63.98 648,-54.71 648,-46.11\"/>\n",
       "<polygon fill=\"black\" stroke=\"black\" points=\"651.5,-46.1 648,-36.1 644.5,-46.1 651.5,-46.1\"/>\n",
       "</g>\n",
       "<!-- 6 -->\n",
       "<g id=\"node18\" class=\"node\">\n",
       "<title>6</title>\n",
       "<polygon fill=\"none\" stroke=\"black\" points=\"856.5,-36 785.5,-36 785.5,0 856.5,0 856.5,-36\"/>\n",
       "<text text-anchor=\"middle\" x=\"821\" y=\"-14.3\" font-family=\"Times-Roman\" font-size=\"14.00\">sanitise</text>\n",
       "</g>\n",
       "<!-- internal_hyperlinks&#45;&gt;6 -->\n",
       "<g id=\"edge7\" class=\"edge\">\n",
       "<title>internal_hyperlinks&#45;&gt;6</title>\n",
       "<path fill=\"none\" stroke=\"black\" d=\"M821,-71.7C821,-63.98 821,-54.71 821,-46.11\"/>\n",
       "<polygon fill=\"black\" stroke=\"black\" points=\"824.5,-46.1 821,-36.1 817.5,-46.1 824.5,-46.1\"/>\n",
       "</g>\n",
       "<!-- 7 -->\n",
       "<g id=\"node19\" class=\"node\">\n",
       "<title>7</title>\n",
       "<polygon fill=\"none\" stroke=\"black\" points=\"1027.5,-36 956.5,-36 956.5,0 1027.5,0 1027.5,-36\"/>\n",
       "<text text-anchor=\"middle\" x=\"992\" y=\"-14.3\" font-family=\"Times-Roman\" font-size=\"14.00\">sanitise</text>\n",
       "</g>\n",
       "<!-- embedded_images&#45;&gt;7 -->\n",
       "<g id=\"edge8\" class=\"edge\">\n",
       "<title>embedded_images&#45;&gt;7</title>\n",
       "<path fill=\"none\" stroke=\"black\" d=\"M992,-71.7C992,-63.98 992,-54.71 992,-46.11\"/>\n",
       "<polygon fill=\"black\" stroke=\"black\" points=\"995.5,-46.1 992,-36.1 988.5,-46.1 995.5,-46.1\"/>\n",
       "</g>\n",
       "<!-- 8 -->\n",
       "<g id=\"node20\" class=\"node\">\n",
       "<title>8</title>\n",
       "<polygon fill=\"none\" stroke=\"black\" points=\"1247.5,-36 1176.5,-36 1176.5,0 1247.5,0 1247.5,-36\"/>\n",
       "<text text-anchor=\"middle\" x=\"1212\" y=\"-14.3\" font-family=\"Times-Roman\" font-size=\"14.00\">sanitise</text>\n",
       "</g>\n",
       "<!-- value_outside_reasonable_limits&#45;&gt;8 -->\n",
       "<g id=\"edge9\" class=\"edge\">\n",
       "<title>value_outside_reasonable_limits&#45;&gt;8</title>\n",
       "<path fill=\"none\" stroke=\"black\" d=\"M1212,-71.7C1212,-63.98 1212,-54.71 1212,-46.11\"/>\n",
       "<polygon fill=\"black\" stroke=\"black\" points=\"1215.5,-46.1 1212,-36.1 1208.5,-46.1 1215.5,-46.1\"/>\n",
       "</g>\n",
       "<!-- 9 -->\n",
       "<g id=\"node21\" class=\"node\">\n",
       "<title>9</title>\n",
       "<polygon fill=\"none\" stroke=\"black\" points=\"1488.5,-36 1417.5,-36 1417.5,0 1488.5,0 1488.5,-36\"/>\n",
       "<text text-anchor=\"middle\" x=\"1453\" y=\"-14.3\" font-family=\"Times-Roman\" font-size=\"14.00\">sanitise</text>\n",
       "</g>\n",
       "<!-- retain_exported_streams&#45;&gt;9 -->\n",
       "<g id=\"edge10\" class=\"edge\">\n",
       "<title>retain_exported_streams&#45;&gt;9</title>\n",
       "<path fill=\"none\" stroke=\"black\" d=\"M1453,-71.7C1453,-63.98 1453,-54.71 1453,-46.11\"/>\n",
       "<polygon fill=\"black\" stroke=\"black\" points=\"1456.5,-46.1 1453,-36.1 1449.5,-46.1 1456.5,-46.1\"/>\n",
       "</g>\n",
       "</g>\n",
       "</svg>\n"
      ],
      "text/plain": [
       "<graphviz.dot.Digraph at 0x7f9c9222c4f0>"
      ]
     },
     "execution_count": 23,
     "metadata": {},
     "output_type": "execute_result"
    }
   ],
   "source": [
    "camera_value = selected_camera.value\n",
    "report.camera_graph(camera_value)"
   ]
  },
  {
   "cell_type": "markdown",
   "id": "egyptian-contemporary",
   "metadata": {},
   "source": [
    "## Content Groups"
   ]
  },
  {
   "cell_type": "code",
   "execution_count": 24,
   "id": "fantastic-reflection",
   "metadata": {},
   "outputs": [
    {
     "name": "stdout",
     "output_type": "stream",
     "text": [
      "There are 3 groups\n"
     ]
    }
   ],
   "source": [
    "report.get_num_of_groups(text=True)"
   ]
  },
  {
   "cell_type": "code",
   "execution_count": 25,
   "id": "excited-employment",
   "metadata": {},
   "outputs": [
    {
     "data": {
      "application/vnd.jupyter.widget-view+json": {
       "model_id": "ad2f4c3625f24d5dbbc9a38bab130cc2",
       "version_major": 2,
       "version_minor": 0
      },
      "text/plain": [
       "QgridWidget(grid_options={'fullWidthRows': True, 'syncColumnCellResize': True, 'forceFitColumns': True, 'defau…"
      ]
     },
     "metadata": {},
     "output_type": "display_data"
    }
   ],
   "source": [
    "content_groups = report.content_groups_df()\n",
    "qgrid_widget = qgrid.show_grid(content_groups, show_toolbar=True)\n",
    "qgrid_widget"
   ]
  },
  {
   "cell_type": "code",
   "execution_count": 26,
   "id": "professional-check",
   "metadata": {},
   "outputs": [
    {
     "data": {
      "application/vnd.jupyter.widget-view+json": {
       "model_id": "d59cb211d1c94d06b1d201eb476a42e3",
       "version_major": 2,
       "version_minor": 0
      },
      "text/plain": [
       "VBox(children=(Dropdown(description='Groups : ', options=('JPEG document has Marker Data Instances', 'JPEG doc…"
      ]
     },
     "metadata": {},
     "output_type": "display_data"
    },
    {
     "data": {
      "application/javascript": [
       "Jupyter.notebook.select_next().execute_cells_below()"
      ],
      "text/plain": [
       "<IPython.core.display.Javascript object>"
      ]
     },
     "metadata": {},
     "output_type": "display_data"
    }
   ],
   "source": [
    "groups = list(content_groups['Brief Description'].unique())\n",
    "\n",
    "selected_group = widgets.Dropdown(\n",
    "    options     = groups,\n",
    "    description = 'Groups : ',\n",
    "    disabled    = False,\n",
    "    value       = None)\n",
    "\n",
    "button = widgets.Button(description='Run')\n",
    "\n",
    "box = widgets.VBox(children=[selected_group, button])\n",
    "display(box)"
   ]
  },
  {
   "cell_type": "code",
   "execution_count": 29,
   "id": "governmental-sleep",
   "metadata": {},
   "outputs": [],
   "source": [
    "%blockrun button"
   ]
  },
  {
   "cell_type": "code",
   "execution_count": 30,
   "id": "measured-heritage",
   "metadata": {},
   "outputs": [
    {
     "data": {
      "image/svg+xml": [
       "<?xml version=\"1.0\" encoding=\"UTF-8\" standalone=\"no\"?>\n",
       "<!DOCTYPE svg PUBLIC \"-//W3C//DTD SVG 1.1//EN\"\n",
       " \"http://www.w3.org/Graphics/SVG/1.1/DTD/svg11.dtd\">\n",
       "<!-- Generated by graphviz version 2.47.0 (20210327.0129)\n",
       " -->\n",
       "<!-- Pages: 1 -->\n",
       "<svg width=\"1562pt\" height=\"235pt\"\n",
       " viewBox=\"0.00 0.00 1561.50 235.00\" xmlns=\"http://www.w3.org/2000/svg\" xmlns:xlink=\"http://www.w3.org/1999/xlink\">\n",
       "<g id=\"graph0\" class=\"graph\" transform=\"scale(1 1) rotate(0) translate(4 231)\">\n",
       "<polygon fill=\"white\" stroke=\"transparent\" points=\"-4,4 -4,-231 1557.5,-231 1557.5,4 -4,4\"/>\n",
       "<!-- JPEG document has Scan Data Instances -->\n",
       "<g id=\"node1\" class=\"node\">\n",
       "<title>JPEG document has Scan Data Instances</title>\n",
       "<polygon fill=\"none\" stroke=\"black\" points=\"1062,-227 755,-227 755,-191 1062,-191 1062,-227\"/>\n",
       "<text text-anchor=\"middle\" x=\"908.5\" y=\"-205.3\" font-family=\"Times-Roman\" font-size=\"14.00\">JPEG document has Scan Data Instances</text>\n",
       "</g>\n",
       "<!-- APP0_Reserved_for_application_segments -->\n",
       "<g id=\"node2\" class=\"node\">\n",
       "<title>APP0_Reserved_for_application_segments</title>\n",
       "<polygon fill=\"none\" stroke=\"black\" points=\"317,-155 0,-155 0,-119 317,-119 317,-155\"/>\n",
       "<text text-anchor=\"middle\" x=\"158.5\" y=\"-133.3\" font-family=\"Times-Roman\" font-size=\"14.00\">APP0_Reserved_for_application_segments</text>\n",
       "</g>\n",
       "<!-- JPEG document has Scan Data Instances&#45;&gt;APP0_Reserved_for_application_segments -->\n",
       "<g id=\"edge1\" class=\"edge\">\n",
       "<title>JPEG document has Scan Data Instances&#45;&gt;APP0_Reserved_for_application_segments</title>\n",
       "<path fill=\"none\" stroke=\"black\" d=\"M754.72,-194.48C639.78,-184.26 478.49,-169.7 327.55,-155.19\"/>\n",
       "<polygon fill=\"black\" stroke=\"black\" points=\"327.45,-151.67 317.16,-154.19 326.78,-158.63 327.45,-151.67\"/>\n",
       "</g>\n",
       "<!-- APP2_Reserved_for_application_segments -->\n",
       "<g id=\"node3\" class=\"node\">\n",
       "<title>APP2_Reserved_for_application_segments</title>\n",
       "<polygon fill=\"none\" stroke=\"black\" points=\"652,-155 335,-155 335,-119 652,-119 652,-155\"/>\n",
       "<text text-anchor=\"middle\" x=\"493.5\" y=\"-133.3\" font-family=\"Times-Roman\" font-size=\"14.00\">APP2_Reserved_for_application_segments</text>\n",
       "</g>\n",
       "<!-- JPEG document has Scan Data Instances&#45;&gt;APP2_Reserved_for_application_segments -->\n",
       "<g id=\"edge2\" class=\"edge\">\n",
       "<title>JPEG document has Scan Data Instances&#45;&gt;APP2_Reserved_for_application_segments</title>\n",
       "<path fill=\"none\" stroke=\"black\" d=\"M807.51,-190.97C746.13,-180.61 667.7,-167.38 604.58,-156.74\"/>\n",
       "<polygon fill=\"black\" stroke=\"black\" points=\"605.03,-153.26 594.58,-155.05 603.86,-160.16 605.03,-153.26\"/>\n",
       "</g>\n",
       "<!-- DHT_Define_Huffman_tables -->\n",
       "<g id=\"node4\" class=\"node\">\n",
       "<title>DHT_Define_Huffman_tables</title>\n",
       "<polygon fill=\"none\" stroke=\"black\" points=\"892.5,-155 670.5,-155 670.5,-119 892.5,-119 892.5,-155\"/>\n",
       "<text text-anchor=\"middle\" x=\"781.5\" y=\"-133.3\" font-family=\"Times-Roman\" font-size=\"14.00\">DHT_Define_Huffman_tables</text>\n",
       "</g>\n",
       "<!-- JPEG document has Scan Data Instances&#45;&gt;DHT_Define_Huffman_tables -->\n",
       "<g id=\"edge3\" class=\"edge\">\n",
       "<title>JPEG document has Scan Data Instances&#45;&gt;DHT_Define_Huffman_tables</title>\n",
       "<path fill=\"none\" stroke=\"black\" d=\"M877.43,-190.88C860.67,-181.64 839.79,-170.13 821.8,-160.21\"/>\n",
       "<polygon fill=\"black\" stroke=\"black\" points=\"823.13,-156.95 812.69,-155.19 819.76,-163.08 823.13,-156.95\"/>\n",
       "</g>\n",
       "<!-- DQT_Define_quantization_tables -->\n",
       "<g id=\"node5\" class=\"node\">\n",
       "<title>DQT_Define_quantization_tables</title>\n",
       "<polygon fill=\"none\" stroke=\"black\" points=\"1160.5,-155 910.5,-155 910.5,-119 1160.5,-119 1160.5,-155\"/>\n",
       "<text text-anchor=\"middle\" x=\"1035.5\" y=\"-133.3\" font-family=\"Times-Roman\" font-size=\"14.00\">DQT_Define_quantization_tables</text>\n",
       "</g>\n",
       "<!-- JPEG document has Scan Data Instances&#45;&gt;DQT_Define_quantization_tables -->\n",
       "<g id=\"edge4\" class=\"edge\">\n",
       "<title>JPEG document has Scan Data Instances&#45;&gt;DQT_Define_quantization_tables</title>\n",
       "<path fill=\"none\" stroke=\"black\" d=\"M939.57,-190.88C956.33,-181.64 977.21,-170.13 995.2,-160.21\"/>\n",
       "<polygon fill=\"black\" stroke=\"black\" points=\"997.24,-163.08 1004.31,-155.19 993.87,-156.95 997.24,-163.08\"/>\n",
       "</g>\n",
       "<!-- EOI_End_of_image -->\n",
       "<g id=\"node6\" class=\"node\">\n",
       "<title>EOI_End_of_image</title>\n",
       "<polygon fill=\"none\" stroke=\"black\" points=\"1328.5,-155 1178.5,-155 1178.5,-119 1328.5,-119 1328.5,-155\"/>\n",
       "<text text-anchor=\"middle\" x=\"1253.5\" y=\"-133.3\" font-family=\"Times-Roman\" font-size=\"14.00\">EOI_End_of_image</text>\n",
       "</g>\n",
       "<!-- JPEG document has Scan Data Instances&#45;&gt;EOI_End_of_image -->\n",
       "<g id=\"edge5\" class=\"edge\">\n",
       "<title>JPEG document has Scan Data Instances&#45;&gt;EOI_End_of_image</title>\n",
       "<path fill=\"none\" stroke=\"black\" d=\"M992.46,-190.97C1045.88,-180.13 1114.84,-166.13 1168.47,-155.25\"/>\n",
       "<polygon fill=\"black\" stroke=\"black\" points=\"1169.19,-158.68 1178.29,-153.26 1167.8,-151.82 1169.19,-158.68\"/>\n",
       "</g>\n",
       "<!-- SOI_Start_of_image -->\n",
       "<g id=\"node7\" class=\"node\">\n",
       "<title>SOI_Start_of_image</title>\n",
       "<polygon fill=\"none\" stroke=\"black\" points=\"1521.5,-155 1363.5,-155 1363.5,-119 1521.5,-119 1521.5,-155\"/>\n",
       "<text text-anchor=\"middle\" x=\"1442.5\" y=\"-133.3\" font-family=\"Times-Roman\" font-size=\"14.00\">SOI_Start_of_image</text>\n",
       "</g>\n",
       "<!-- JPEG document has Scan Data Instances&#45;&gt;SOI_Start_of_image -->\n",
       "<g id=\"edge6\" class=\"edge\">\n",
       "<title>JPEG document has Scan Data Instances&#45;&gt;SOI_Start_of_image</title>\n",
       "<path fill=\"none\" stroke=\"black\" d=\"M1057.59,-190.98C1140.18,-181.2 1244.63,-168.25 1337.5,-155 1342.62,-154.27 1347.89,-153.49 1353.19,-152.69\"/>\n",
       "<polygon fill=\"black\" stroke=\"black\" points=\"1354.07,-156.1 1363.43,-151.13 1353.01,-149.18 1354.07,-156.1\"/>\n",
       "</g>\n",
       "<!-- 0 -->\n",
       "<g id=\"node8\" class=\"node\">\n",
       "<title>0</title>\n",
       "<polygon fill=\"none\" stroke=\"black\" points=\"258,-83 59,-83 59,0 258,0 258,-83\"/>\n",
       "<text text-anchor=\"middle\" x=\"158.5\" y=\"-67.8\" font-family=\"Times-Roman\" font-size=\"14.00\">Instance Count: 1</text>\n",
       "<text text-anchor=\"middle\" x=\"158.5\" y=\"-52.8\" font-family=\"Times-Roman\" font-size=\"14.00\">Total Size In Bytes: 18</text>\n",
       "<text text-anchor=\"middle\" x=\"158.5\" y=\"-37.8\" font-family=\"Times-Roman\" font-size=\"14.00\">Average Size In Bytes: 18</text>\n",
       "<text text-anchor=\"middle\" x=\"158.5\" y=\"-22.8\" font-family=\"Times-Roman\" font-size=\"14.00\">Min Size In Bytes: 18</text>\n",
       "<text text-anchor=\"middle\" x=\"158.5\" y=\"-7.8\" font-family=\"Times-Roman\" font-size=\"14.00\">Max Size In Bytes: 18</text>\n",
       "</g>\n",
       "<!-- APP0_Reserved_for_application_segments&#45;&gt;0 -->\n",
       "<g id=\"edge7\" class=\"edge\">\n",
       "<title>APP0_Reserved_for_application_segments&#45;&gt;0</title>\n",
       "<path fill=\"none\" stroke=\"black\" d=\"M158.5,-118.85C158.5,-111.49 158.5,-102.48 158.5,-93.25\"/>\n",
       "<polygon fill=\"black\" stroke=\"black\" points=\"162,-93.23 158.5,-83.23 155,-93.23 162,-93.23\"/>\n",
       "</g>\n",
       "<!-- 1 -->\n",
       "<g id=\"node9\" class=\"node\">\n",
       "<title>1</title>\n",
       "<polygon fill=\"none\" stroke=\"black\" points=\"602,-83 385,-83 385,0 602,0 602,-83\"/>\n",
       "<text text-anchor=\"middle\" x=\"493.5\" y=\"-67.8\" font-family=\"Times-Roman\" font-size=\"14.00\">Instance Count: 1</text>\n",
       "<text text-anchor=\"middle\" x=\"493.5\" y=\"-52.8\" font-family=\"Times-Roman\" font-size=\"14.00\">Total Size In Bytes: 3162</text>\n",
       "<text text-anchor=\"middle\" x=\"493.5\" y=\"-37.8\" font-family=\"Times-Roman\" font-size=\"14.00\">Average Size In Bytes: 3162</text>\n",
       "<text text-anchor=\"middle\" x=\"493.5\" y=\"-22.8\" font-family=\"Times-Roman\" font-size=\"14.00\">Min Size In Bytes: 3162</text>\n",
       "<text text-anchor=\"middle\" x=\"493.5\" y=\"-7.8\" font-family=\"Times-Roman\" font-size=\"14.00\">Max Size In Bytes: 3162</text>\n",
       "</g>\n",
       "<!-- APP2_Reserved_for_application_segments&#45;&gt;1 -->\n",
       "<g id=\"edge8\" class=\"edge\">\n",
       "<title>APP2_Reserved_for_application_segments&#45;&gt;1</title>\n",
       "<path fill=\"none\" stroke=\"black\" d=\"M493.5,-118.85C493.5,-111.49 493.5,-102.48 493.5,-93.25\"/>\n",
       "<polygon fill=\"black\" stroke=\"black\" points=\"497,-93.23 493.5,-83.23 490,-93.23 497,-93.23\"/>\n",
       "</g>\n",
       "<!-- 2 -->\n",
       "<g id=\"node10\" class=\"node\">\n",
       "<title>2</title>\n",
       "<polygon fill=\"none\" stroke=\"black\" points=\"881,-83 682,-83 682,0 881,0 881,-83\"/>\n",
       "<text text-anchor=\"middle\" x=\"781.5\" y=\"-67.8\" font-family=\"Times-Roman\" font-size=\"14.00\">Instance Count: 4</text>\n",
       "<text text-anchor=\"middle\" x=\"781.5\" y=\"-52.8\" font-family=\"Times-Roman\" font-size=\"14.00\">Total Size In Bytes: 141</text>\n",
       "<text text-anchor=\"middle\" x=\"781.5\" y=\"-37.8\" font-family=\"Times-Roman\" font-size=\"14.00\">Average Size In Bytes: 35</text>\n",
       "<text text-anchor=\"middle\" x=\"781.5\" y=\"-22.8\" font-family=\"Times-Roman\" font-size=\"14.00\">Min Size In Bytes: 29</text>\n",
       "<text text-anchor=\"middle\" x=\"781.5\" y=\"-7.8\" font-family=\"Times-Roman\" font-size=\"14.00\">Max Size In Bytes: 46</text>\n",
       "</g>\n",
       "<!-- DHT_Define_Huffman_tables&#45;&gt;2 -->\n",
       "<g id=\"edge9\" class=\"edge\">\n",
       "<title>DHT_Define_Huffman_tables&#45;&gt;2</title>\n",
       "<path fill=\"none\" stroke=\"black\" d=\"M781.5,-118.85C781.5,-111.49 781.5,-102.48 781.5,-93.25\"/>\n",
       "<polygon fill=\"black\" stroke=\"black\" points=\"785,-93.23 781.5,-83.23 778,-93.23 785,-93.23\"/>\n",
       "</g>\n",
       "<!-- 3 -->\n",
       "<g id=\"node11\" class=\"node\">\n",
       "<title>3</title>\n",
       "<polygon fill=\"none\" stroke=\"black\" points=\"1135,-83 936,-83 936,0 1135,0 1135,-83\"/>\n",
       "<text text-anchor=\"middle\" x=\"1035.5\" y=\"-67.8\" font-family=\"Times-Roman\" font-size=\"14.00\">Instance Count: 2</text>\n",
       "<text text-anchor=\"middle\" x=\"1035.5\" y=\"-52.8\" font-family=\"Times-Roman\" font-size=\"14.00\">Total Size In Bytes: 138</text>\n",
       "<text text-anchor=\"middle\" x=\"1035.5\" y=\"-37.8\" font-family=\"Times-Roman\" font-size=\"14.00\">Average Size In Bytes: 69</text>\n",
       "<text text-anchor=\"middle\" x=\"1035.5\" y=\"-22.8\" font-family=\"Times-Roman\" font-size=\"14.00\">Min Size In Bytes: 69</text>\n",
       "<text text-anchor=\"middle\" x=\"1035.5\" y=\"-7.8\" font-family=\"Times-Roman\" font-size=\"14.00\">Max Size In Bytes: 69</text>\n",
       "</g>\n",
       "<!-- DQT_Define_quantization_tables&#45;&gt;3 -->\n",
       "<g id=\"edge10\" class=\"edge\">\n",
       "<title>DQT_Define_quantization_tables&#45;&gt;3</title>\n",
       "<path fill=\"none\" stroke=\"black\" d=\"M1035.5,-118.85C1035.5,-111.49 1035.5,-102.48 1035.5,-93.25\"/>\n",
       "<polygon fill=\"black\" stroke=\"black\" points=\"1039,-93.23 1035.5,-83.23 1032,-93.23 1039,-93.23\"/>\n",
       "</g>\n",
       "<!-- 4 -->\n",
       "<g id=\"node12\" class=\"node\">\n",
       "<title>4</title>\n",
       "<polygon fill=\"none\" stroke=\"black\" points=\"1345.5,-83 1155.5,-83 1155.5,0 1345.5,0 1345.5,-83\"/>\n",
       "<text text-anchor=\"middle\" x=\"1250.5\" y=\"-67.8\" font-family=\"Times-Roman\" font-size=\"14.00\">Instance Count: 1</text>\n",
       "<text text-anchor=\"middle\" x=\"1250.5\" y=\"-52.8\" font-family=\"Times-Roman\" font-size=\"14.00\">Total Size In Bytes: 2</text>\n",
       "<text text-anchor=\"middle\" x=\"1250.5\" y=\"-37.8\" font-family=\"Times-Roman\" font-size=\"14.00\">Average Size In Bytes: 2</text>\n",
       "<text text-anchor=\"middle\" x=\"1250.5\" y=\"-22.8\" font-family=\"Times-Roman\" font-size=\"14.00\">Min Size In Bytes: 2</text>\n",
       "<text text-anchor=\"middle\" x=\"1250.5\" y=\"-7.8\" font-family=\"Times-Roman\" font-size=\"14.00\">Max Size In Bytes: 2</text>\n",
       "</g>\n",
       "<!-- EOI_End_of_image&#45;&gt;4 -->\n",
       "<g id=\"edge11\" class=\"edge\">\n",
       "<title>EOI_End_of_image&#45;&gt;4</title>\n",
       "<path fill=\"none\" stroke=\"black\" d=\"M1252.95,-118.85C1252.71,-111.49 1252.42,-102.48 1252.13,-93.25\"/>\n",
       "<polygon fill=\"black\" stroke=\"black\" points=\"1255.63,-93.11 1251.81,-83.23 1248.63,-93.33 1255.63,-93.11\"/>\n",
       "</g>\n",
       "<!-- 5 -->\n",
       "<g id=\"node13\" class=\"node\">\n",
       "<title>5</title>\n",
       "<polygon fill=\"none\" stroke=\"black\" points=\"1553.5,-83 1363.5,-83 1363.5,0 1553.5,0 1553.5,-83\"/>\n",
       "<text text-anchor=\"middle\" x=\"1458.5\" y=\"-67.8\" font-family=\"Times-Roman\" font-size=\"14.00\">Instance Count: 1</text>\n",
       "<text text-anchor=\"middle\" x=\"1458.5\" y=\"-52.8\" font-family=\"Times-Roman\" font-size=\"14.00\">Total Size In Bytes: 2</text>\n",
       "<text text-anchor=\"middle\" x=\"1458.5\" y=\"-37.8\" font-family=\"Times-Roman\" font-size=\"14.00\">Average Size In Bytes: 2</text>\n",
       "<text text-anchor=\"middle\" x=\"1458.5\" y=\"-22.8\" font-family=\"Times-Roman\" font-size=\"14.00\">Min Size In Bytes: 2</text>\n",
       "<text text-anchor=\"middle\" x=\"1458.5\" y=\"-7.8\" font-family=\"Times-Roman\" font-size=\"14.00\">Max Size In Bytes: 2</text>\n",
       "</g>\n",
       "<!-- SOI_Start_of_image&#45;&gt;5 -->\n",
       "<g id=\"edge12\" class=\"edge\">\n",
       "<title>SOI_Start_of_image&#45;&gt;5</title>\n",
       "<path fill=\"none\" stroke=\"black\" d=\"M1445.43,-118.85C1446.69,-111.49 1448.24,-102.48 1449.82,-93.25\"/>\n",
       "<polygon fill=\"black\" stroke=\"black\" points=\"1453.29,-93.67 1451.53,-83.23 1446.39,-92.49 1453.29,-93.67\"/>\n",
       "</g>\n",
       "</g>\n",
       "</svg>\n"
      ],
      "text/plain": [
       "<graphviz.dot.Digraph at 0x7f9c9a3f2940>"
      ]
     },
     "execution_count": 30,
     "metadata": {},
     "output_type": "execute_result"
    }
   ],
   "source": [
    "group_value = selected_group.value\n",
    "report.group_graph(group_value)"
   ]
  },
  {
   "cell_type": "code",
   "execution_count": 31,
   "id": "tired-nursing",
   "metadata": {},
   "outputs": [
    {
     "data": {
      "application/vnd.jupyter.widget-view+json": {
       "model_id": "385ff529e19c4644a36f55f950e6dc48",
       "version_major": 2,
       "version_minor": 0
      },
      "text/plain": [
       "QgridWidget(grid_options={'fullWidthRows': True, 'syncColumnCellResize': True, 'forceFitColumns': True, 'defau…"
      ]
     },
     "metadata": {},
     "output_type": "display_data"
    }
   ],
   "source": [
    "group_df = report.group_df(group_value)\n",
    "qgrid_widget = qgrid.show_grid(group_df, show_toolbar=True)\n",
    "qgrid_widget"
   ]
  },
  {
   "cell_type": "code",
   "execution_count": 32,
   "id": "binding-cuisine",
   "metadata": {},
   "outputs": [
    {
     "data": {
      "image/png": "[encoded data removed]",
      "text/plain": [
       "<Figure size 1080x576 with 1 Axes>"
      ]
     },
     "metadata": {},
     "output_type": "display_data"
    }
   ],
   "source": [
    "report.group_instance_count(group_value)"
   ]
  },
  {
   "cell_type": "code",
   "execution_count": 33,
   "id": "treated-partition",
   "metadata": {},
   "outputs": [
    {
     "data": {
      "application/vnd.jupyter.widget-view+json": {
       "model_id": "debc2503fa9343c3b39c3ffe72d07b05",
       "version_major": 2,
       "version_minor": 0
      },
      "text/plain": [
       "VBox(children=(Dropdown(description='Tech : ', options=('APP0_Reserved_for_application_segments', 'APP2_Reserv…"
      ]
     },
     "metadata": {},
     "output_type": "display_data"
    },
    {
     "data": {
      "application/javascript": [
       "Jupyter.notebook.select_next().execute_cells_below()"
      ],
      "text/plain": [
       "<IPython.core.display.Javascript object>"
      ]
     },
     "metadata": {},
     "output_type": "display_data"
    },
    {
     "data": {
      "application/javascript": [
       "Jupyter.notebook.select_next().execute_cells_below()"
      ],
      "text/plain": [
       "<IPython.core.display.Javascript object>"
      ]
     },
     "metadata": {},
     "output_type": "display_data"
    },
    {
     "data": {
      "application/javascript": [
       "Jupyter.notebook.select_next().execute_cells_below()"
      ],
      "text/plain": [
       "<IPython.core.display.Javascript object>"
      ]
     },
     "metadata": {},
     "output_type": "display_data"
    },
    {
     "data": {
      "application/javascript": [
       "Jupyter.notebook.select_next().execute_cells_below()"
      ],
      "text/plain": [
       "<IPython.core.display.Javascript object>"
      ]
     },
     "metadata": {},
     "output_type": "display_data"
    }
   ],
   "source": [
    "tech_descriptions = report.get_group_tech_descriptions(group_value) \n",
    "\n",
    "selected_tech = widgets.Dropdown(\n",
    "    options     = tech_descriptions,\n",
    "    description = 'Tech : ',\n",
    "    disabled    = False,\n",
    "    value       = None)\n",
    "\n",
    "button = widgets.Button(description='Run')\n",
    "\n",
    "box = widgets.VBox(children=[selected_tech, button])\n",
    "display(box)"
   ]
  },
  {
   "cell_type": "code",
   "execution_count": 45,
   "id": "shaped-sheet",
   "metadata": {},
   "outputs": [],
   "source": [
    "%blockrun button"
   ]
  },
  {
   "cell_type": "code",
   "execution_count": 46,
   "id": "grand-secretariat",
   "metadata": {},
   "outputs": [
    {
     "data": {
      "image/png": "[encoded data removed]",
      "text/plain": [
       "<Figure size 1080x576 with 1 Axes>"
      ]
     },
     "metadata": {},
     "output_type": "display_data"
    }
   ],
   "source": [
    "tech_value = selected_tech.value\n",
    "report.group_tech_barchart_1(group_value, tech_value)"
   ]
  },
  {
   "cell_type": "code",
   "execution_count": 47,
   "id": "indie-sustainability",
   "metadata": {},
   "outputs": [
    {
     "data": {
      "image/png": "[encoded data removed]",
      "text/plain": [
       "<Figure size 1080x576 with 1 Axes>"
      ]
     },
     "metadata": {
      "needs_background": "light"
     },
     "output_type": "display_data"
    }
   ],
   "source": [
    "report.group_tech_barchart_2(group_value, tech_value)"
   ]
  }
 ],
 "metadata": {
  "kernelspec": {
   "display_name": "Python 3",
   "language": "python",
   "name": "python3"
  },
  "language_info": {
   "codemirror_mode": {
    "name": "ipython",
    "version": 3
   },
   "file_extension": ".py",
   "mimetype": "text/x-python",
   "name": "python",
   "nbconvert_exporter": "python",
   "pygments_lexer": "ipython3",
   "version": "3.8.8"
  }
 },
 "nbformat": 4,
 "nbformat_minor": 5
}
